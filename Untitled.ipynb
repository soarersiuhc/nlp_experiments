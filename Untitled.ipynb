{
 "cells": [
  {
   "cell_type": "code",
   "execution_count": 6,
   "id": "6239800f",
   "metadata": {},
   "outputs": [],
   "source": [
    "import numpy as np"
   ]
  },
  {
   "cell_type": "code",
   "execution_count": 17,
   "id": "5fccff09",
   "metadata": {},
   "outputs": [],
   "source": [
    "def f(c0, c1, c2):\n",
    "    denom = - ((c0 - c1) * (c1 - c2) * (c2-c0))\n",
    "\n",
    "    u = (c0 ** 2 + c1 ** 2 + c2 ** 2 - c0 * c1 - c1 * c2 - c2 * c0) / denom\n",
    "    v = (c1 * (c2 ** 2) + c2 * (c0 ** 2) + c0 * (c1 ** 2) - c1 ** 3 - c2 ** 3 - c0 ** 3) /denom\n",
    "    w = ((c1 ** 3) * c2 + (c2 ** 3) * c0 + (c0 ** 3) * c1 - (c1 ** 2) * (c2 ** 2) - (c2 ** 2) * (c0 ** 2) - (c0 ** 2) * (c1 ** 2)) / denom\n",
    "\n",
    "    delta_sq = v ** 2 - 4 * u * w\n",
    "    \n",
    "    return v/2 - delta_sq / 4"
   ]
  },
  {
   "cell_type": "code",
   "execution_count": 29,
   "id": "3202bb00",
   "metadata": {},
   "outputs": [
    {
     "data": {
      "text/plain": [
       "Fraction(-29, 16)"
      ]
     },
     "execution_count": 29,
     "metadata": {},
     "output_type": "execute_result"
    }
   ],
   "source": [
    "Fraction.from_float(f(0, 1, 2))"
   ]
  },
  {
   "cell_type": "code",
   "execution_count": 32,
   "id": "fed7c907",
   "metadata": {},
   "outputs": [
    {
     "data": {
      "text/plain": [
       "(-2.0902777777777777, Fraction(-2353443555275207, 1125899906842624))"
      ]
     },
     "execution_count": 32,
     "metadata": {},
     "output_type": "execute_result"
    }
   ],
   "source": [
    "f(0, 1, 3), Fraction.from_float(f(0, 1, 3))"
   ]
  },
  {
   "cell_type": "code",
   "execution_count": 46,
   "id": "1cd2ec0b",
   "metadata": {},
   "outputs": [],
   "source": [
    "def f2(c2):\n",
    "    \"\"\"\n",
    "    Calculate Lagrange polynomial that sends 0 -> 1 -> c2 -> 0. Change coordinates in A^1 linearly so that\n",
    "    polynomial is of the form y^2 + c.\n",
    "    \n",
    "    This function outputs\n",
    "    - c in y^2 + c\n",
    "    - the periodic points in y-coordinates (in x coordinates they are 0, 1, c2)\n",
    "    \"\"\"\n",
    "    # corresponds to c0 = 0, c1 = 1\n",
    "    num = -(c2 ** 6 - 4 * c2 ** 5 + 9 * c2 ** 4 - 8 * c2 ** 3 + 4 * c2 ** 2 - 2 * c2 + 1)\n",
    "    denom = 4 * ((1 - c2) ** 2) * (c2 ** 2)\n",
    "    \n",
    "    # in y coordinates, after transform\n",
    "    # 0 becomes\n",
    "    v0_num = c2 ** 2 - c2 ** 3 - 1\n",
    "    v0_denom = 2 * c2 * (1 - c2)\n",
    "    v0 = v0_num / v0_denom\n",
    "    \n",
    "    # 1 becomes\n",
    "    v1_num = -c2 ** 3 + 3 * c2 ** 2 - 2 * c2 + 1\n",
    "    v1_denom = 2 * c2 * (1 - c2)\n",
    "    v1 = v1_num / v1_denom\n",
    "    \n",
    "    # c2 becomes\n",
    "    vc_num = c2 ** 3 - c2 ** 2 + 2 * c2 - 1\n",
    "    vc_denom = 2 * c2 * (1 - c2)\n",
    "    vc = vc_num / vc_denom\n",
    "    \n",
    "    return {\n",
    "        \"c in y^2 + c\": {\n",
    "            \"numerator\": num, \n",
    "            \"denominator\": denom, \n",
    "            \"c\": num / denom,\n",
    "        },\n",
    "        \"periodic_point_0\": {\n",
    "            \"numerator\": v0_num,\n",
    "            \"demoninator\": v0_denom,\n",
    "            \"v0\": v0\n",
    "        },\n",
    "        \"periodic_point_1\": {\n",
    "            \"numerator\": v1_num,\n",
    "            \"demoninator\": v1_denom,\n",
    "            \"v1\": v1\n",
    "        },\n",
    "        \"periodic_point_c\": {\n",
    "            \"numerator\": vc_num,\n",
    "            \"demoninator\": vc_denom,\n",
    "            \"vc\": vc\n",
    "        },\n",
    "    }"
   ]
  },
  {
   "cell_type": "code",
   "execution_count": 49,
   "id": "62511317",
   "metadata": {},
   "outputs": [
    {
     "data": {
      "text/plain": [
       "{'c in y^2 + c': {'numerator': -1849,\n",
       "  'denominator': 576,\n",
       "  'c': -3.2100694444444446},\n",
       " 'periodic_point_0': {'numerator': -49,\n",
       "  'demoninator': -24,\n",
       "  'v0': 2.0416666666666665},\n",
       " 'periodic_point_1': {'numerator': -23,\n",
       "  'demoninator': -24,\n",
       "  'v1': 0.9583333333333334},\n",
       " 'periodic_point_c': {'numerator': 55,\n",
       "  'demoninator': -24,\n",
       "  'vc': -2.2916666666666665}}"
      ]
     },
     "execution_count": 49,
     "metadata": {},
     "output_type": "execute_result"
    }
   ],
   "source": [
    "f2(4)"
   ]
  },
  {
   "cell_type": "code",
   "execution_count": null,
   "id": "4f5e352c",
   "metadata": {},
   "outputs": [],
   "source": []
  }
 ],
 "metadata": {
  "kernelspec": {
   "display_name": "Python 3",
   "language": "python",
   "name": "python3"
  },
  "language_info": {
   "codemirror_mode": {
    "name": "ipython",
    "version": 3
   },
   "file_extension": ".py",
   "mimetype": "text/x-python",
   "name": "python",
   "nbconvert_exporter": "python",
   "pygments_lexer": "ipython3",
   "version": "3.9.1"
  }
 },
 "nbformat": 4,
 "nbformat_minor": 5
}
