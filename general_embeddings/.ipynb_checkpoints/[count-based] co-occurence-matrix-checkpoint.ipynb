{
 "cells": [
  {
   "cell_type": "markdown",
   "id": "a3aa1a43",
   "metadata": {},
   "source": [
    "- General Idea: \n",
    "    - \"Meaning\" of a word can be captured by its nearby words (You shall know a word by the company it keeps)"
   ]
  },
  {
   "cell_type": "markdown",
   "id": "4f9f35e3",
   "metadata": {},
   "source": [
    "# Co-occurence matrix\n",
    "- Correlation of words is captured by how often the two words are \"close\" to each other\n",
    "- Hyperparameter: window-size, weighting by distance to center of word.\n",
    "\n",
    "References:\n",
    "- https://web.stanford.edu/class/cs224n/assignments/a1_preview/exploring_word_vectors.html"
   ]
  },
  {
   "cell_type": "code",
   "execution_count": 77,
   "id": "237aab49",
   "metadata": {},
   "outputs": [
    {
     "name": "stderr",
     "output_type": "stream",
     "text": [
      "[nltk_data] Downloading package reuters to /Users/soarer/nltk_data...\n",
      "[nltk_data]   Package reuters is already up-to-date!\n"
     ]
    }
   ],
   "source": [
    "import nltk\n",
    "nltk.download('reuters')\n",
    "from nltk.corpus import reuters\n",
    "\n",
    "import pprint\n",
    "from collections import defaultdict\n",
    "\n",
    "import numpy as np\n",
    "\n",
    "import matplotlib.pyplot as plt\n",
    "\n",
    "from sklearn.decomposition import TruncatedSVD\n"
   ]
  },
  {
   "cell_type": "code",
   "execution_count": 78,
   "id": "be23823b",
   "metadata": {},
   "outputs": [],
   "source": [
    "START_TOKEN = '<START>'\n",
    "END_TOKEN = '<END>'"
   ]
  },
  {
   "cell_type": "code",
   "execution_count": 7,
   "id": "abbe795b",
   "metadata": {},
   "outputs": [],
   "source": [
    "def read_corpus(category=\"crude\"):\n",
    "    \"\"\" Read files from the specified Reuter's category.\n",
    "        Params:\n",
    "            category (string): category name\n",
    "        Return:\n",
    "            list of lists, with words from each of the processed files\n",
    "    \"\"\"\n",
    "    files = reuters.fileids(category)\n",
    "    return [[START_TOKEN] + [w.lower() for w in list(reuters.words(f))] + [END_TOKEN] for f in files]"
   ]
  },
  {
   "cell_type": "code",
   "execution_count": 16,
   "id": "3fd68932",
   "metadata": {},
   "outputs": [
    {
     "name": "stdout",
     "output_type": "stream",
     "text": [
      "['<START>', 'japan', 'to', 'revise', 'long', '-', 'term', 'energy', 'demand', 'downwards', 'the',\n",
      " 'ministry', 'of', 'international', 'trade', 'and', 'industry', '(', 'miti', ')', 'will', 'revise',\n",
      " 'its', 'long', '-', 'term', 'energy', 'supply', '/', 'demand', 'outlook', 'by', 'august', 'to',\n",
      " 'meet', 'a', 'forecast', 'downtrend', 'in', 'japanese', 'energy', 'demand', ',', 'ministry',\n",
      " 'officials', 'said', '.', 'miti', 'is', 'expected', 'to', 'lower', 'the', 'projection', 'for',\n",
      " 'primary', 'energy', 'supplies', 'in', 'the', 'year', '2000', 'to', '550', 'mln', 'kilolitres',\n",
      " '(', 'kl', ')', 'from', '600', 'mln', ',', 'they', 'said', '.', 'the', 'decision', 'follows',\n",
      " 'the', 'emergence', 'of', 'structural', 'changes', 'in', 'japanese', 'industry', 'following',\n",
      " 'the', 'rise', 'in', 'the', 'value', 'of', 'the', 'yen', 'and', 'a', 'decline', 'in', 'domestic',\n",
      " 'electric', 'power', 'demand', '.', 'miti', 'is', 'planning', 'to', 'work', 'out', 'a', 'revised',\n",
      " 'energy', 'supply', '/', 'demand', 'outlook', 'through', 'deliberations', 'of', 'committee',\n",
      " 'meetings', 'of', 'the', 'agency', 'of', 'natural', 'resources', 'and', 'energy', ',', 'the',\n",
      " 'officials', 'said', '.', 'they', 'said', 'miti', 'will', 'also', 'review', 'the', 'breakdown',\n",
      " 'of', 'energy', 'supply', 'sources', ',', 'including', 'oil', ',', 'nuclear', ',', 'coal', 'and',\n",
      " 'natural', 'gas', '.', 'nuclear', 'energy', 'provided', 'the', 'bulk', 'of', 'japan', \"'\", 's',\n",
      " 'electric', 'power', 'in', 'the', 'fiscal', 'year', 'ended', 'march', '31', ',', 'supplying', 'an',\n",
      " 'estimated', '27', 'pct', 'on', 'a', 'kilowatt', '/', 'hour', 'basis', ',', 'followed', 'by',\n",
      " 'oil', '(', '23', 'pct', ')', 'and', 'liquefied', 'natural', 'gas', '(', '21', 'pct', '),', 'they',\n",
      " 'noted', '.', '<END>']\n"
     ]
    }
   ],
   "source": [
    "reuters_corpus = read_corpus()\n",
    "pprint.pprint(reuters_corpus[0], compact=True, width=100)"
   ]
  },
  {
   "cell_type": "code",
   "execution_count": 27,
   "id": "b1481ce2",
   "metadata": {},
   "outputs": [],
   "source": [
    "def get_vocabs():\n",
    "    vocab_set = set()\n",
    "    for corpus in reuters_corpus:\n",
    "        vocab_set.update(corpus)\n",
    "    \n",
    "    return list(vocab_set)"
   ]
  },
  {
   "cell_type": "code",
   "execution_count": 29,
   "id": "4db61eda",
   "metadata": {},
   "outputs": [
    {
     "data": {
      "text/plain": [
       "8185"
      ]
     },
     "execution_count": 29,
     "metadata": {},
     "output_type": "execute_result"
    }
   ],
   "source": [
    "_VOCAB_LIST = get_vocabs()\n",
    "_VOCAB_TO_ID = {\n",
    "    vocab: idx\n",
    "    for idx, vocab in enumerate(_VOCAB_LIST)\n",
    "}\n",
    "len(_VOCAB_LIST)"
   ]
  },
  {
   "cell_type": "code",
   "execution_count": 79,
   "id": "f6f835b5",
   "metadata": {},
   "outputs": [],
   "source": [
    "def get_frequencies():\n",
    "    ret = defaultdict(int)\n",
    "    for corpus in reuters_corpus:\n",
    "        for word in corpus:\n",
    "            ret[_VOCAB_TO_ID[word]] += 1\n",
    "    \n",
    "    return ret"
   ]
  },
  {
   "cell_type": "code",
   "execution_count": 80,
   "id": "1aea5ed2",
   "metadata": {},
   "outputs": [],
   "source": [
    "_VOCAB_ID_TO_FREQ = get_frequencies()\n",
    "N_TOTAL_FREQ = sum(_VOCAB_ID_TO_FREQ.values())"
   ]
  },
  {
   "cell_type": "code",
   "execution_count": null,
   "id": "c6bf0427",
   "metadata": {},
   "outputs": [],
   "source": []
  },
  {
   "cell_type": "code",
   "execution_count": 44,
   "id": "a01a0182",
   "metadata": {},
   "outputs": [],
   "source": [
    "def get_co_occurence_matrix(window_size=4, skip_self_co_occurence=True):\n",
    "    n_vocab = len(_VOCAB_LIST)\n",
    "    ret = np.zeros((n_vocab, n_vocab))\n",
    "    \n",
    "    for corpus in reuters_corpus:\n",
    "        cor_length = len(corpus)\n",
    "        \n",
    "        for idx, word in enumerate(corpus):\n",
    "            for step in range(-window_size, window_size + 1):\n",
    "                if idx + step < 0 or idx + step >= cor_length:\n",
    "                    continue\n",
    "                \n",
    "                if skip_self_co_occurence and step == 0:\n",
    "                    continue\n",
    "                    \n",
    "                vocab_idx_i = _VOCAB_TO_ID[word]\n",
    "                vocab_idx_j = _VOCAB_TO_ID[corpus[idx + step]]\n",
    "                \n",
    "                ret[vocab_idx_i, vocab_idx_j] += 1\n",
    "                ret[vocab_idx_j, vocab_idx_i] += 1\n",
    "                \n",
    "    return ret"
   ]
  },
  {
   "cell_type": "code",
   "execution_count": 45,
   "id": "5e52c2f3",
   "metadata": {},
   "outputs": [],
   "source": [
    "co_occurence_matrix = get_co_occurence_matrix()"
   ]
  },
  {
   "cell_type": "code",
   "execution_count": 46,
   "id": "c8192982",
   "metadata": {},
   "outputs": [],
   "source": [
    "# next steps\n",
    "# - do svd; figure out meaning of explained variance; check cutoff\n",
    "# - check sample words/highest dot product after projection\n",
    "# - do more low dim projection (t-SNE? UMAP?) to see word clusters"
   ]
  },
  {
   "cell_type": "code",
   "execution_count": 48,
   "id": "aef72d32",
   "metadata": {},
   "outputs": [
    {
     "name": "stdout",
     "output_type": "stream",
     "text": [
      "Word: building\n",
      "Highest co-occured words:\n",
      "of (freq: 12.0), and (freq: 6.0), products (freq: 6.0), is (freq: 4.0), stock (freq: 4.0)\n",
      "------\n",
      "Word: borrowers\n",
      "Highest co-occured words:\n",
      "oil (freq: 4.0), banks (freq: 2.0), back (freq: 2.0), defaults (freq: 2.0), because (freq: 2.0)\n",
      "------\n",
      "Word: late\n",
      "Highest co-occured words:\n",
      "in (freq: 22.0), . (freq: 16.0), to (freq: 16.0), , (freq: 16.0), year (freq: 10.0)\n",
      "------\n",
      "Word: new\n",
      "Highest co-occured words:\n",
      "the (freq: 220.0), . (freq: 158.0), a (freq: 92.0), , (freq: 88.0), in (freq: 84.0)\n",
      "------\n"
     ]
    }
   ],
   "source": [
    "# a few sample words: building, borrowers, late, new\n",
    "for word in [\"building\", \"borrowers\", \"late\", \"new\"]:\n",
    "    vocab_idx = _VOCAB_TO_ID[word]\n",
    "    \n",
    "    co_occurence_vector = co_occurence_matrix[vocab_idx]\n",
    "    highest_co_occurence_ids = sorted(\n",
    "        list(np.argpartition(co_occurence_vector, -5)[-5:]),\n",
    "        key=lambda idx: co_occurence_vector[idx], \n",
    "        reverse=True\n",
    "    )\n",
    "    highest_co_occured_words = [\n",
    "        _VOCAB_LIST[idx] for idx in highest_co_occurence_ids\n",
    "    ]\n",
    "    print(f\"Word: {word}\")\n",
    "    print(\"Highest co-occured words:\")\n",
    "    print(\", \".join(\n",
    "        [\n",
    "            f\"{word} (freq: {co_occurence_vector[idx]})\" \n",
    "            for idx, word \n",
    "            in list(\n",
    "                zip(highest_co_occurence_ids, highest_co_occured_words)\n",
    "            )\n",
    "        ]\n",
    "    ))\n",
    "    print(\"------\")"
   ]
  },
  {
   "cell_type": "code",
   "execution_count": 50,
   "id": "c8373eb1",
   "metadata": {},
   "outputs": [],
   "source": [
    "# Projections to lower dimensions by PCA\n",
    "\n",
    "def pca_get_low_dim_embeddings(matrix, k=2):\n",
    "    svd = TruncatedSVD(n_components=k, n_iter=50, random_state=42)\n",
    "    \n",
    "    # from https://scikit-learn.org/stable/modules/decomposition.html#lsa\n",
    "    # if X = UDV^T, the transformed embeddings is considered UD here\n",
    "    # Don't think the scaling factor D matters - true thing that matters is the matrix/approximation (say UD_k V^T) itself.\n",
    "    # e.g. in WALS, key point is the dot products approximate your matrix, and inference are made based on the dot products, not individual embeddings.\n",
    "    return svd.fit_transform(matrix)"
   ]
  },
  {
   "cell_type": "code",
   "execution_count": 56,
   "id": "07c776c7",
   "metadata": {},
   "outputs": [],
   "source": [
    "def pca_plot_explained_variance(matrix, k=50):\n",
    "    svd = TruncatedSVD(n_components=k, n_iter=50, random_state=42)\n",
    "    svd.fit(matrix)\n",
    "    \n",
    "    explained_variance_p_cum = np.cumsum(svd.explained_variance_ratio_) / np.sum(svd.explained_variance_ratio_)\n",
    "    \n",
    "    plt.plot(\n",
    "        np.array(range(1, len(explained_variance_p_cum) + 1)),\n",
    "        explained_variance_p_cum\n",
    "    )\n",
    "    plt.title(\"Explained variance from PCA of matrix\")\n",
    "    plt.xlabel(\"First k singular values\")\n",
    "    plt.ylabel(\"Cumulative proportion of explained variance\")\n",
    "    plt.show()"
   ]
  },
  {
   "cell_type": "code",
   "execution_count": 57,
   "id": "fb81aeb5",
   "metadata": {},
   "outputs": [
    {
     "data": {
      "image/png": "[encoded data removed]",
      "text/plain": [
       "<Figure size 432x288 with 1 Axes>"
      ]
     },
     "metadata": {
      "needs_background": "light"
     },
     "output_type": "display_data"
    }
   ],
   "source": [
    "pca_plot_explained_variance(co_occurence_matrix)"
   ]
  },
  {
   "cell_type": "code",
   "execution_count": 71,
   "id": "32463592",
   "metadata": {},
   "outputs": [],
   "source": [
    "def plot_2d_embeddings(labels, embeddings, scale=1, most_freq_sample=100):\n",
    "    if most_freq_sample > 0:\n",
    "        sample_indices = [idx for idx, cnt in sorted(_VOCAB_ID_TO_FREQ.items(), key=lambda item: item[1])[:most_freq_sample]]\n",
    "        labels = labels[sample_indices]\n",
    "        embeddings = embeddings[sample_indices]\n",
    "        \n",
    "    for label, embedding in zip(labels, embeddings):\n",
    "        x, y = embedding[0] * scale, embedding[1] * scale\n",
    "        plt.scatter(x, y, marker='x', color='red')\n",
    "        plt.text(x + 0.3, y +0.3, label, fontsize=9)\n",
    "    plt.show()"
   ]
  },
  {
   "cell_type": "code",
   "execution_count": 72,
   "id": "1c94e898",
   "metadata": {},
   "outputs": [],
   "source": [
    "embeddings = pca_get_low_dim_embeddings(co_occurence_matrix, k=2)"
   ]
  },
  {
   "cell_type": "code",
   "execution_count": 73,
   "id": "5f578039",
   "metadata": {},
   "outputs": [
    {
     "data": {
      "text/plain": [
       "(8185, 2)"
      ]
     },
     "execution_count": 73,
     "metadata": {},
     "output_type": "execute_result"
    }
   ],
   "source": [
    "embeddings.shape"
   ]
  },
  {
   "cell_type": "code",
   "execution_count": 84,
   "id": "314f7bf7",
   "metadata": {},
   "outputs": [
    {
     "data": {
      "image/png": "[encoded data removed]",
      "text/plain": [
       "<Figure size 432x288 with 1 Axes>"
      ]
     },
     "metadata": {
      "needs_background": "light"
     },
     "output_type": "display_data"
    }
   ],
   "source": [
    "plot_2d_embeddings(\n",
    "    np.array(_VOCAB_LIST), \n",
    "    embeddings,\n",
    "    scale=100,\n",
    "    most_freq_sample=25\n",
    ")"
   ]
  },
  {
   "cell_type": "markdown",
   "id": "abd3165d",
   "metadata": {},
   "source": [
    "### Overall feelings\n",
    "\n",
    "- Quality of co-occurence matrix feels suspect itself (the highest co-occured words feel okay but not super good). Maybe need larger corpus/more cleaning of text beforehand.\n",
    "- Embeddings thus obtained also feels suspect as a result; it's not clear how to check that though.\n",
    "    - Visualization is not obvious (Perhaps most vectors have small length)\n",
    "    - Dot product of embedding should proxy co-occurence, so should reflect correlation of two words. It may be necessary to formalize a list of benchmarking tasks.\n",
    "\n",
    "Some complaints of getting embeddings this way:\n",
    "- Co-occurence matrix is noisy\n",
    "    - Overweights words that occur more often.\n",
    "    - *Fix*: tfidf of some form\n",
    "- Embedding is not canonical\n",
    "    - Presumably true for any matrix factorization methods if dot product is the key. May be not a key point here.\n",
    "- Error of embedding is not Gaussian\n",
    "    - SVD/WALS style of matrix factorization assumes $L^2$-error, but as entries of co-occurence matrix don't live in the same scale, this effectively means embeddings are biased towards fitting words that co-occur the most, disproportinately.\n",
    "    - *Fix 1*: change model - e.g. if co-occurence shouldn't be approximated by dot product + Gaussian error; maybe instead should be approximated by a Poisson variable that depends on dot product.\n",
    "    - *Fix 2*: change matrix - sample idea: instead of co-occurence, normalize by likelihood of co-occurence, e.g. PPMI"
   ]
  },
  {
   "cell_type": "code",
   "execution_count": null,
   "id": "e2b9c67e",
   "metadata": {},
   "outputs": [],
   "source": []
  }
 ],
 "metadata": {
  "kernelspec": {
   "display_name": "Python 3",
   "language": "python",
   "name": "python3"
  },
  "language_info": {
   "codemirror_mode": {
    "name": "ipython",
    "version": 3
   },
   "file_extension": ".py",
   "mimetype": "text/x-python",
   "name": "python",
   "nbconvert_exporter": "python",
   "pygments_lexer": "ipython3",
   "version": "3.9.1"
  }
 },
 "nbformat": 4,
 "nbformat_minor": 5
}
