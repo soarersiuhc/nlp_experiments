{
 "cells": [
  {
   "cell_type": "markdown",
   "id": "84c27276",
   "metadata": {},
   "source": [
    "- General Idea: \n",
    "    - \"Meaning\" of a word can be captured by its nearby words (You shall know a word by the company it keeps)"
   ]
  },
  {
   "cell_type": "markdown",
   "id": "66c79962",
   "metadata": {},
   "source": [
    "- https://en.wikipedia.org/wiki/Pointwise_mutual_information\n",
    "- https://www.mit.edu/~jda/teaching/6.864/sp20/lectures/distributional_sem.pdf\n",
    "- https://lena-voita.github.io/nlp_course/word_embeddings.html#w2v_subsample_frequent"
   ]
  },
  {
   "cell_type": "code",
   "execution_count": 57,
   "id": "1db31faa",
   "metadata": {},
   "outputs": [
    {
     "name": "stderr",
     "output_type": "stream",
     "text": [
      "[nltk_data] Downloading package reuters to /Users/soarer/nltk_data...\n",
      "[nltk_data]   Package reuters is already up-to-date!\n"
     ]
    }
   ],
   "source": [
    "import nltk\n",
    "nltk.download('reuters')\n",
    "from nltk.corpus import reuters\n",
    "from nltk.corpus import stopwords\n",
    "\n",
    "import pprint\n",
    "from collections import defaultdict\n",
    "\n",
    "import numpy as np\n",
    "\n",
    "import matplotlib.pyplot as plt\n",
    "\n",
    "from sklearn.decomposition import TruncatedSVD\n"
   ]
  },
  {
   "cell_type": "code",
   "execution_count": 58,
   "id": "83be1c1b",
   "metadata": {},
   "outputs": [],
   "source": [
    "stop_words = set(stopwords.words('english'))"
   ]
  },
  {
   "cell_type": "code",
   "execution_count": 2,
   "id": "e1605149",
   "metadata": {},
   "outputs": [],
   "source": [
    "START_TOKEN = '<START>'\n",
    "END_TOKEN = '<END>'"
   ]
  },
  {
   "cell_type": "code",
   "execution_count": 59,
   "id": "43844db9",
   "metadata": {},
   "outputs": [],
   "source": [
    "def read_corpus(category=\"crude\", skip_stopwords=False):\n",
    "    \"\"\" Read files from the specified Reuter's category.\n",
    "        Params:\n",
    "            category (string): category name\n",
    "        Return:\n",
    "            list of lists, with words from each of the processed files\n",
    "    \"\"\"\n",
    "    files = reuters.fileids(category)\n",
    "    if skip_stopwords:\n",
    "        return [[START_TOKEN] + [w.lower() for w in list(reuters.words(f)) if w not in stop_words] + [END_TOKEN] for f in files]        \n",
    "    else:\n",
    "        return [[START_TOKEN] + [w.lower() for w in list(reuters.words(f))] + [END_TOKEN] for f in files]"
   ]
  },
  {
   "cell_type": "code",
   "execution_count": 60,
   "id": "78975e14",
   "metadata": {},
   "outputs": [
    {
     "name": "stdout",
     "output_type": "stream",
     "text": [
      "['<START>', 'japan', 'to', 'revise', 'long', '-', 'term', 'energy', 'demand', 'downwards', 'the',\n",
      " 'ministry', 'of', 'international', 'trade', 'and', 'industry', '(', 'miti', ')', 'will', 'revise',\n",
      " 'its', 'long', '-', 'term', 'energy', 'supply', '/', 'demand', 'outlook', 'by', 'august', 'to',\n",
      " 'meet', 'a', 'forecast', 'downtrend', 'in', 'japanese', 'energy', 'demand', ',', 'ministry',\n",
      " 'officials', 'said', '.', 'miti', 'is', 'expected', 'to', 'lower', 'the', 'projection', 'for',\n",
      " 'primary', 'energy', 'supplies', 'in', 'the', 'year', '2000', 'to', '550', 'mln', 'kilolitres',\n",
      " '(', 'kl', ')', 'from', '600', 'mln', ',', 'they', 'said', '.', 'the', 'decision', 'follows',\n",
      " 'the', 'emergence', 'of', 'structural', 'changes', 'in', 'japanese', 'industry', 'following',\n",
      " 'the', 'rise', 'in', 'the', 'value', 'of', 'the', 'yen', 'and', 'a', 'decline', 'in', 'domestic',\n",
      " 'electric', 'power', 'demand', '.', 'miti', 'is', 'planning', 'to', 'work', 'out', 'a', 'revised',\n",
      " 'energy', 'supply', '/', 'demand', 'outlook', 'through', 'deliberations', 'of', 'committee',\n",
      " 'meetings', 'of', 'the', 'agency', 'of', 'natural', 'resources', 'and', 'energy', ',', 'the',\n",
      " 'officials', 'said', '.', 'they', 'said', 'miti', 'will', 'also', 'review', 'the', 'breakdown',\n",
      " 'of', 'energy', 'supply', 'sources', ',', 'including', 'oil', ',', 'nuclear', ',', 'coal', 'and',\n",
      " 'natural', 'gas', '.', 'nuclear', 'energy', 'provided', 'the', 'bulk', 'of', 'japan', \"'\", 's',\n",
      " 'electric', 'power', 'in', 'the', 'fiscal', 'year', 'ended', 'march', '31', ',', 'supplying', 'an',\n",
      " 'estimated', '27', 'pct', 'on', 'a', 'kilowatt', '/', 'hour', 'basis', ',', 'followed', 'by',\n",
      " 'oil', '(', '23', 'pct', ')', 'and', 'liquefied', 'natural', 'gas', '(', '21', 'pct', '),', 'they',\n",
      " 'noted', '.', '<END>']\n"
     ]
    }
   ],
   "source": [
    "reuters_corpus = read_corpus()\n",
    "pprint.pprint(reuters_corpus[0], compact=True, width=100)"
   ]
  },
  {
   "cell_type": "code",
   "execution_count": 61,
   "id": "b18d9d75",
   "metadata": {},
   "outputs": [],
   "source": [
    "def get_vocabs():\n",
    "    vocab_set = set()\n",
    "    for corpus in reuters_corpus:\n",
    "        vocab_set.update(corpus)\n",
    "    \n",
    "    return list(vocab_set)"
   ]
  },
  {
   "cell_type": "code",
   "execution_count": 62,
   "id": "3dda1da3",
   "metadata": {},
   "outputs": [],
   "source": [
    "_VOCAB_LIST = get_vocabs()\n",
    "_VOCAB_TO_ID = {\n",
    "    vocab: idx\n",
    "    for idx, vocab in enumerate(_VOCAB_LIST)\n",
    "}\n",
    "N_VOCAB = len(_VOCAB_LIST)"
   ]
  },
  {
   "cell_type": "code",
   "execution_count": 63,
   "id": "d3cd5a1d",
   "metadata": {},
   "outputs": [],
   "source": [
    "def get_frequencies():\n",
    "    ret = defaultdict(int)\n",
    "    for corpus in reuters_corpus:\n",
    "        for word in corpus:\n",
    "            ret[_VOCAB_TO_ID[word]] += 1\n",
    "    \n",
    "    return ret"
   ]
  },
  {
   "cell_type": "code",
   "execution_count": 64,
   "id": "5a3359d0",
   "metadata": {},
   "outputs": [],
   "source": [
    "_VOCAB_ID_TO_FREQ = get_frequencies()\n",
    "N_TOTAL_FREQ = sum(_VOCAB_ID_TO_FREQ.values())"
   ]
  },
  {
   "cell_type": "code",
   "execution_count": 65,
   "id": "07cd7308",
   "metadata": {},
   "outputs": [
    {
     "data": {
      "text/plain": [
       "144071"
      ]
     },
     "execution_count": 65,
     "metadata": {},
     "output_type": "execute_result"
    }
   ],
   "source": [
    "N_TOTAL_FREQ"
   ]
  },
  {
   "cell_type": "code",
   "execution_count": 83,
   "id": "013fbe79",
   "metadata": {},
   "outputs": [],
   "source": [
    "def get_co_occurence_matrix(window_size=4, skip_self_co_occurence=True):\n",
    "    ret = np.zeros((N_VOCAB, N_VOCAB))\n",
    "    \n",
    "    for corpus in reuters_corpus:\n",
    "        cor_length = len(corpus)\n",
    "        \n",
    "        for idx, word in enumerate(corpus):\n",
    "            for step in range(-window_size, window_size + 1):\n",
    "                if idx + step < 0 or idx + step >= cor_length:\n",
    "                    continue\n",
    "                \n",
    "                if skip_self_co_occurence and step == 0:\n",
    "                    continue\n",
    "                    \n",
    "                vocab_idx_i = _VOCAB_TO_ID[word]\n",
    "                vocab_idx_j = _VOCAB_TO_ID[corpus[idx + step]]\n",
    "                \n",
    "                ret[vocab_idx_i, vocab_idx_j] += 1\n",
    "                \n",
    "    return ret"
   ]
  },
  {
   "cell_type": "code",
   "execution_count": 84,
   "id": "9a6e4247",
   "metadata": {},
   "outputs": [],
   "source": [
    "WINDOW_SIZE = 4\n",
    "co_occurence_matrix = get_co_occurence_matrix(window_size=WINDOW_SIZE)"
   ]
  },
  {
   "cell_type": "code",
   "execution_count": 85,
   "id": "93a23794",
   "metadata": {},
   "outputs": [],
   "source": [
    "_vec_VOCAB_ID_TO_FREQ = np.array([_VOCAB_ID_TO_FREQ[i] / N_TOTAL_FREQ for i in range(N_VOCAB)])"
   ]
  },
  {
   "cell_type": "code",
   "execution_count": 86,
   "id": "b04de63d",
   "metadata": {},
   "outputs": [
    {
     "data": {
      "text/plain": [
       "array([[0., 0., 0., ..., 0., 0., 0.],\n",
       "       [0., 0., 0., ..., 0., 0., 0.],\n",
       "       [0., 0., 0., ..., 0., 0., 0.],\n",
       "       ...,\n",
       "       [0., 0., 0., ..., 0., 0., 0.],\n",
       "       [0., 0., 0., ..., 0., 0., 0.],\n",
       "       [0., 0., 0., ..., 0., 0., 0.]])"
      ]
     },
     "execution_count": 86,
     "metadata": {},
     "output_type": "execute_result"
    }
   ],
   "source": [
    "pmi_matrix_pre_log = co_occurence_matrix / (N_TOTAL_FREQ * (2 * WINDOW_SIZE + 1))\n",
    "pmi_matrix_pre_log /= _vec_VOCAB_ID_TO_FREQ\n",
    "pmi_matrix_pre_log /= _vec_VOCAB_ID_TO_FREQ.T\n",
    "\n",
    "pmi_matrix_pre_log"
   ]
  },
  {
   "cell_type": "code",
   "execution_count": 87,
   "id": "e5868b11",
   "metadata": {},
   "outputs": [],
   "source": [
    "pmi_matrix = np.log(1 + pmi_matrix_pre_log)"
   ]
  },
  {
   "cell_type": "code",
   "execution_count": 88,
   "id": "4c7ecbe0",
   "metadata": {},
   "outputs": [],
   "source": [
    "# next steps\n",
    "# - do svd; figure out meaning of explained variance; check cutoff\n",
    "# - check sample words/highest dot product after projection\n",
    "# - do more low dim projection (t-SNE? UMAP?) to see word clusters"
   ]
  },
  {
   "cell_type": "code",
   "execution_count": 89,
   "id": "0504b7ac",
   "metadata": {},
   "outputs": [
    {
     "data": {
      "text/plain": [
       "8"
      ]
     },
     "execution_count": 89,
     "metadata": {},
     "output_type": "execute_result"
    }
   ],
   "source": [
    "_VOCAB_ID_TO_FREQ[_VOCAB_TO_ID[\"building\"]]"
   ]
  },
  {
   "cell_type": "code",
   "execution_count": 90,
   "id": "261875d5",
   "metadata": {},
   "outputs": [
    {
     "data": {
      "text/plain": [
       "1"
      ]
     },
     "execution_count": 90,
     "metadata": {},
     "output_type": "execute_result"
    }
   ],
   "source": [
    "_VOCAB_ID_TO_FREQ[_VOCAB_TO_ID[\"petrochemicals\"]]"
   ]
  },
  {
   "cell_type": "code",
   "execution_count": 91,
   "id": "eb9a181d",
   "metadata": {},
   "outputs": [
    {
     "data": {
      "text/plain": [
       "1.0"
      ]
     },
     "execution_count": 91,
     "metadata": {},
     "output_type": "execute_result"
    }
   ],
   "source": [
    "co_occurence_matrix[_VOCAB_TO_ID[\"petrochemicals\"], _VOCAB_TO_ID[\"building\"]]"
   ]
  },
  {
   "cell_type": "code",
   "execution_count": 92,
   "id": "31c78958",
   "metadata": {},
   "outputs": [
    {
     "name": "stdout",
     "output_type": "stream",
     "text": [
      "Word: building\n",
      "Highest co-occured words:\n",
      "petrochemicals (freq: 9.680899402513619), divisions (freq: 8.177040610381308), specialty (freq: 7.4841744227342115), trend (freq: 5.982061768652597), continuing (freq: 5.408658513798059)\n",
      "------\n",
      "Word: borrowers\n",
      "Highest co-occured words:\n",
      "venturesome (freq: 9.680899402513619), defaults (freq: 8.294792419728482), promised (freq: 7.4841744227342115), latin (freq: 5.081894238075734), conditions (freq: 3.2060057195111593)\n",
      "------\n",
      "Word: late\n",
      "Highest co-occured words:\n",
      "investigate (freq: 9.680899402513619), complaints (freq: 9.680899402513619), stagnation (freq: 9.680899402513619), surged (freq: 9.680899402513619), gives (freq: 8.177040610381308)\n",
      "------\n",
      "Word: new\n",
      "Highest co-occured words:\n",
      "bijan (freq: 9.680899402513619), adopt (freq: 9.680899402513619), totals (freq: 9.680899402513619), administer (freq: 9.680899402513619), dreyer (freq: 9.680899402513619)\n",
      "------\n"
     ]
    }
   ],
   "source": [
    "# a few sample words: building, borrowers, late, new\n",
    "for word in [\"building\", \"borrowers\", \"late\", \"new\"]:\n",
    "    vocab_idx = _VOCAB_TO_ID[word]\n",
    "    \n",
    "    pmi_vector = pmi_matrix[vocab_idx]\n",
    "    highest_pmi_ids = sorted(\n",
    "        list(np.argpartition(pmi_vector, -5)[-5:]),\n",
    "        key=lambda idx: pmi_vector[idx], \n",
    "        reverse=True\n",
    "    )\n",
    "    highest_co_occured_words = [\n",
    "        _VOCAB_LIST[idx] for idx in highest_pmi_ids\n",
    "    ]\n",
    "    print(f\"Word: {word}\")\n",
    "    print(\"Highest co-occured words:\")\n",
    "    print(\", \".join(\n",
    "        [\n",
    "            f\"{word} (freq: {pmi_vector[idx]})\" \n",
    "            for idx, word \n",
    "            in list(\n",
    "                zip(highest_pmi_ids, highest_co_occured_words)\n",
    "            )\n",
    "        ]\n",
    "    ))\n",
    "    print(\"------\")"
   ]
  },
  {
   "cell_type": "code",
   "execution_count": 93,
   "id": "997415bd",
   "metadata": {},
   "outputs": [],
   "source": [
    "# Projections to lower dimensions by PCA\n",
    "\n",
    "def pca_get_low_dim_embeddings(matrix, k=2):\n",
    "    svd = TruncatedSVD(n_components=k, n_iter=50, random_state=42)\n",
    "    \n",
    "    # from https://scikit-learn.org/stable/modules/decomposition.html#lsa\n",
    "    # if X = UDV^T, the transformed embeddings is considered UD here\n",
    "    # Don't think the scaling factor D matters - true thing that matters is the matrix/approximation (say UD_k V^T) itself.\n",
    "    # e.g. in WALS, key point is the dot products approximate your matrix, and inference are made based on the dot products, not individual embeddings.\n",
    "    return svd.fit_transform(matrix)"
   ]
  },
  {
   "cell_type": "code",
   "execution_count": 94,
   "id": "0d2246c9",
   "metadata": {},
   "outputs": [],
   "source": [
    "def pca_plot_explained_variance(matrix, k=50):\n",
    "    svd = TruncatedSVD(n_components=k, n_iter=50, random_state=42)\n",
    "    svd.fit(matrix)\n",
    "    \n",
    "    explained_variance_p_cum = np.cumsum(svd.explained_variance_ratio_) / np.sum(svd.explained_variance_ratio_)\n",
    "    \n",
    "    plt.plot(\n",
    "        np.array(range(1, len(explained_variance_p_cum) + 1)),\n",
    "        explained_variance_p_cum\n",
    "    )\n",
    "    plt.title(\"Explained variance from PCA of matrix\")\n",
    "    plt.xlabel(\"First k singular values\")\n",
    "    plt.ylabel(\"Cumulative proportion of explained variance\")\n",
    "    plt.show()"
   ]
  },
  {
   "cell_type": "code",
   "execution_count": 96,
   "id": "4cf49e15",
   "metadata": {},
   "outputs": [
    {
     "data": {
      "image/png": "[encoded data removed]",
      "text/plain": [
       "<Figure size 432x288 with 1 Axes>"
      ]
     },
     "metadata": {
      "needs_background": "light"
     },
     "output_type": "display_data"
    }
   ],
   "source": [
    "pca_plot_explained_variance(pmi_matrix)"
   ]
  },
  {
   "cell_type": "code",
   "execution_count": 100,
   "id": "d8c4ea72",
   "metadata": {},
   "outputs": [],
   "source": [
    "def plot_2d_embeddings(labels, embeddings, scale=1, most_freq_sample=100):\n",
    "    if most_freq_sample > 0:\n",
    "        sample_indices = [idx for idx, cnt in sorted(_VOCAB_ID_TO_FREQ.items(), key=lambda item: item[1])[:most_freq_sample]]\n",
    "        labels = labels[sample_indices]\n",
    "        embeddings = embeddings[sample_indices]\n",
    "        \n",
    "    for label, embedding in zip(labels, embeddings):\n",
    "        x, y = embedding[0] * scale, embedding[1] * scale\n",
    "        plt.scatter(x, y, marker='x', color='red')\n",
    "        plt.text(x + 0.3, y +0.3, label, fontsize=9)\n",
    "    plt.show()"
   ]
  },
  {
   "cell_type": "code",
   "execution_count": 101,
   "id": "c05527de",
   "metadata": {},
   "outputs": [],
   "source": [
    "embeddings = pca_get_low_dim_embeddings(pmi_matrix, k=2)"
   ]
  },
  {
   "cell_type": "code",
   "execution_count": 102,
   "id": "7cb00dc7",
   "metadata": {},
   "outputs": [
    {
     "data": {
      "text/plain": [
       "(8185, 2)"
      ]
     },
     "execution_count": 102,
     "metadata": {},
     "output_type": "execute_result"
    }
   ],
   "source": [
    "embeddings.shape"
   ]
  },
  {
   "cell_type": "code",
   "execution_count": 105,
   "id": "e6e9a909",
   "metadata": {},
   "outputs": [
    {
     "data": {
      "image/png": "[encoded data removed]",
      "text/plain": [
       "<Figure size 432x288 with 1 Axes>"
      ]
     },
     "metadata": {
      "needs_background": "light"
     },
     "output_type": "display_data"
    }
   ],
   "source": [
    "plot_2d_embeddings(\n",
    "    np.array(_VOCAB_LIST), \n",
    "    embeddings,\n",
    "    scale=100,\n",
    "    most_freq_sample=50\n",
    ")"
   ]
  },
  {
   "cell_type": "code",
   "execution_count": null,
   "id": "5e09e14d",
   "metadata": {},
   "outputs": [],
   "source": [
    "# This is not making any sense for sure. So is original co-occurence matrix; I'm guessing the corpus is just too small."
   ]
  }
 ],
 "metadata": {
  "kernelspec": {
   "display_name": "Python 3",
   "language": "python",
   "name": "python3"
  },
  "language_info": {
   "codemirror_mode": {
    "name": "ipython",
    "version": 3
   },
   "file_extension": ".py",
   "mimetype": "text/x-python",
   "name": "python",
   "nbconvert_exporter": "python",
   "pygments_lexer": "ipython3",
   "version": "3.9.1"
  }
 },
 "nbformat": 4,
 "nbformat_minor": 5
}
